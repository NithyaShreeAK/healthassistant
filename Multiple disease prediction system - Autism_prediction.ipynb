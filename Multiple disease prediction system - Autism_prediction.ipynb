{
 "cells": [
  {
   "cell_type": "markdown",
   "metadata": {},
   "source": [
    "# Autism Spectrum Disorder Prediction using Logistic Regression"
   ]
  },
  {
   "cell_type": "code",
   "execution_count": null,
   "metadata": {},
   "outputs": [],
   "source": [
    "import pandas as pd
",
    "from sklearn.model_selection import train_test_split
",
    "from sklearn.linear_model import LogisticRegression
",
    "from sklearn.metrics import accuracy_score
",
    "import pickle"
   ]
  },
  {
   "cell_type": "code",
   "execution_count": null,
   "metadata": {},
   "outputs": [],
   "source": [
    "# Load dataset
",
    "df = pd.read_csv("Autism-Prediction-using-Machine-Learning---DataSet.csv")
",
    "
",
    "# Select required columns
",
    "features = [
",
    "    'A1_Score', 'A2_Score', 'A3_Score', 'A4_Score', 'A5_Score', 
",
    "    'A6_Score', 'A7_Score', 'A8_Score', 'A9_Score', 'A10_Score',
",
    "    'age', 'gender', 'jaundice', 'used_app_before'
",
    "]
",
    "
",
    "df = df[features + ['Class/ASD']]
",
    "
",
    "# Encode categorical variables
",
    "df['gender'] = df['gender'].map({'m': 1, 'f': 0})
",
    "df['jaundice'] = df['jaundice'].map({'yes': 1, 'no': 0})
",
    "df['used_app_before'] = df['used_app_before'].map({'yes': 1, 'no': 0})
",
    "df['Class/ASD'] = df['Class/ASD'].map({'YES': 1, 'NO': 0})
",
    "
",
    "# Separate features and target
",
    "X = df[features]
",
    "y = df['Class/ASD']
",
    "
",
    "# Split data
",
    "X_train, X_test, y_train, y_test = train_test_split(X, y, test_size=0.2, random_state=42)
",
    "
",
    "# Train logistic regression model
",
    "model = LogisticRegression()
",
    "model.fit(X_train, y_train)
",
    "
",
    "# Evaluate model
",
    "y_pred = model.predict(X_test)
",
    "print("Accuracy:", accuracy_score(y_test, y_pred))
",
    "
",
    "# Save model
",
    "pickle.dump(model, open("autism_model.sav", "wb"))"
   ]
  }
 ],
 "metadata": {
  "kernelspec": {
   "display_name": "Python 3",
   "language": "python",
   "name": "python3"
  },
  "language_info": {
   "name": "python",
   "version": "3.10"
  }
 },
 "nbformat": 4,
 "nbformat_minor": 2
}
